{
  "nbformat": 4,
  "nbformat_minor": 0,
  "metadata": {
    "colab": {
      "provenance": []
    },
    "kernelspec": {
      "name": "python3",
      "display_name": "Python 3"
    },
    "language_info": {
      "name": "python"
    }
  },
  "cells": [
    {
      "cell_type": "code",
      "source": [
        "import pandas as pd\n",
        "\n",
        "# Load datasets\n",
        "customers = pd.read_csv(\"Customers.csv\")\n",
        "products = pd.read_csv(\"Products.csv\")\n",
        "transactions = pd.read_csv(\"Transactions.csv\")\n"
      ],
      "metadata": {
        "id": "TNXB41PzKayn"
      },
      "execution_count": null,
      "outputs": []
    },
    {
      "cell_type": "code",
      "source": [
        "# Merge transactions with customer information\n",
        "transactions_customers = transactions.merge(customers, on=\"CustomerID\", how=\"inner\")\n"
      ],
      "metadata": {
        "id": "VKhOWL7KKrHt"
      },
      "execution_count": null,
      "outputs": []
    },
    {
      "cell_type": "code",
      "source": [
        "# Merge the result with product information\n",
        "merged_data = transactions_customers.merge(products, on=\"ProductID\", how=\"inner\")\n"
      ],
      "metadata": {
        "id": "QLYTP9amK0Qb"
      },
      "execution_count": null,
      "outputs": []
    },
    {
      "cell_type": "code",
      "source": [
        "print(merged_data.info())\n",
        "print(merged_data.head())\n"
      ],
      "metadata": {
        "colab": {
          "base_uri": "https://localhost:8080/"
        },
        "id": "YGL1PJJIK2iC",
        "outputId": "99ad061a-3154-4fa2-f136-cfb1a5dcdbe8"
      },
      "execution_count": null,
      "outputs": [
        {
          "output_type": "stream",
          "name": "stdout",
          "text": [
            "<class 'pandas.core.frame.DataFrame'>\n",
            "RangeIndex: 1000 entries, 0 to 999\n",
            "Data columns (total 13 columns):\n",
            " #   Column           Non-Null Count  Dtype  \n",
            "---  ------           --------------  -----  \n",
            " 0   TransactionID    1000 non-null   object \n",
            " 1   CustomerID       1000 non-null   object \n",
            " 2   ProductID        1000 non-null   object \n",
            " 3   TransactionDate  1000 non-null   object \n",
            " 4   Quantity         1000 non-null   int64  \n",
            " 5   TotalValue       1000 non-null   float64\n",
            " 6   Price_x          1000 non-null   float64\n",
            " 7   CustomerName     1000 non-null   object \n",
            " 8   Region           1000 non-null   object \n",
            " 9   SignupDate       1000 non-null   object \n",
            " 10  ProductName      1000 non-null   object \n",
            " 11  Category         1000 non-null   object \n",
            " 12  Price_y          1000 non-null   float64\n",
            "dtypes: float64(3), int64(1), object(9)\n",
            "memory usage: 101.7+ KB\n",
            "None\n",
            "  TransactionID CustomerID ProductID      TransactionDate  Quantity  \\\n",
            "0        T00001      C0199      P067  2024-08-25 12:38:23         1   \n",
            "1        T00112      C0146      P067  2024-05-27 22:23:54         1   \n",
            "2        T00166      C0127      P067  2024-04-25 07:38:55         1   \n",
            "3        T00272      C0087      P067  2024-03-26 22:55:37         2   \n",
            "4        T00363      C0070      P067  2024-03-21 15:10:10         3   \n",
            "\n",
            "   TotalValue  Price_x     CustomerName         Region  SignupDate  \\\n",
            "0      300.68   300.68   Andrea Jenkins         Europe  2022-12-03   \n",
            "1      300.68   300.68  Brittany Harvey           Asia  2024-09-04   \n",
            "2      300.68   300.68  Kathryn Stevens         Europe  2024-04-04   \n",
            "3      601.36   300.68  Travis Campbell  South America  2024-04-11   \n",
            "4      902.04   300.68    Timothy Perez         Europe  2022-03-15   \n",
            "\n",
            "                       ProductName     Category  Price_y  \n",
            "0  ComfortLiving Bluetooth Speaker  Electronics   300.68  \n",
            "1  ComfortLiving Bluetooth Speaker  Electronics   300.68  \n",
            "2  ComfortLiving Bluetooth Speaker  Electronics   300.68  \n",
            "3  ComfortLiving Bluetooth Speaker  Electronics   300.68  \n",
            "4  ComfortLiving Bluetooth Speaker  Electronics   300.68  \n"
          ]
        }
      ]
    },
    {
      "cell_type": "code",
      "source": [
        "customer_features = merged_data.groupby('CustomerID')['TotalValue'].sum().reset_index()\n",
        "customer_features.rename(columns={'TotalValue': 'TotalSpending'}, inplace=True)\n"
      ],
      "metadata": {
        "id": "xbAeC0K0NHF3"
      },
      "execution_count": null,
      "outputs": []
    },
    {
      "cell_type": "code",
      "source": [
        "customer_features['AverageSpending'] = merged_data.groupby('CustomerID')['TotalValue'].mean().values\n"
      ],
      "metadata": {
        "id": "RU78fS7MLHJy"
      },
      "execution_count": null,
      "outputs": []
    },
    {
      "cell_type": "code",
      "source": [
        "customer_features['TotalQuantity'] = merged_data.groupby('CustomerID')['Quantity'].sum().values\n"
      ],
      "metadata": {
        "id": "4U9MAnRsNQ_A"
      },
      "execution_count": null,
      "outputs": []
    },
    {
      "cell_type": "code",
      "source": [
        "customer_features['AverageQuantity'] = merged_data.groupby('CustomerID')['Quantity'].mean().values\n"
      ],
      "metadata": {
        "id": "IGkDF8O_NY7j"
      },
      "execution_count": null,
      "outputs": []
    },
    {
      "cell_type": "code",
      "source": [
        "favorite_category = merged_data.groupby(['CustomerID', 'Category']).size().reset_index(name='Count')\n",
        "favorite_category = favorite_category.loc[favorite_category.groupby('CustomerID')['Count'].idxmax()]\n",
        "customer_features = customer_features.merge(favorite_category[['CustomerID', 'Category']], on='CustomerID', how='left')\n",
        "customer_features.rename(columns={'Category': 'FavoriteCategory'}, inplace=True)\n"
      ],
      "metadata": {
        "id": "oeXRqwabNcbC"
      },
      "execution_count": null,
      "outputs": []
    },
    {
      "cell_type": "code",
      "source": [
        "unique_products = merged_data.groupby('CustomerID')['ProductID'].nunique().reset_index()\n",
        "unique_products.rename(columns={'ProductID': 'UniqueProductsPurchased'}, inplace=True)\n",
        "customer_features = customer_features.merge(unique_products, on='CustomerID', how='left')\n"
      ],
      "metadata": {
        "id": "dVB1fMKWNfDw"
      },
      "execution_count": null,
      "outputs": []
    },
    {
      "cell_type": "code",
      "source": [
        "region_info = merged_data[['CustomerID', 'Region']].drop_duplicates()\n",
        "customer_features = customer_features.merge(region_info, on='CustomerID', how='left')\n"
      ],
      "metadata": {
        "id": "qdsghIx_Np2M"
      },
      "execution_count": null,
      "outputs": []
    },
    {
      "cell_type": "code",
      "source": [
        "num_transactions = merged_data.groupby('CustomerID')['TransactionID'].nunique().reset_index()\n",
        "num_transactions.rename(columns={'TransactionID': 'NumberOfTransactions'}, inplace=True)\n",
        "customer_features = customer_features.merge(num_transactions, on='CustomerID', how='left')\n"
      ],
      "metadata": {
        "id": "4NoeA7GnNsQO"
      },
      "execution_count": null,
      "outputs": []
    },
    {
      "cell_type": "code",
      "source": [
        "customer_features = pd.get_dummies(customer_features, columns=['Region', 'FavoriteCategory'], drop_first=True)\n"
      ],
      "metadata": {
        "id": "MNhaX9zqNvDQ"
      },
      "execution_count": null,
      "outputs": []
    },
    {
      "cell_type": "code",
      "source": [
        "from sklearn.preprocessing import StandardScaler\n",
        "scaler = StandardScaler()\n",
        "numerical_columns = ['TotalSpending', 'AverageSpending', 'TotalQuantity', 'AverageQuantity', 'UniqueProductsPurchased', 'NumberOfTransactions']\n",
        "customer_features[numerical_columns] = scaler.fit_transform(customer_features[numerical_columns])\n"
      ],
      "metadata": {
        "id": "n8w0agqDNyTY"
      },
      "execution_count": null,
      "outputs": []
    },
    {
      "cell_type": "code",
      "source": [
        "# Display the scaled dataset\n",
        "print(\"Scaled Dataset:\")\n",
        "print(customer_features)\n"
      ],
      "metadata": {
        "colab": {
          "base_uri": "https://localhost:8080/"
        },
        "id": "V40kTy9yN1Tj",
        "outputId": "00bab22d-7aff-4448-b307-e4e5887273a8"
      },
      "execution_count": null,
      "outputs": [
        {
          "output_type": "stream",
          "name": "stdout",
          "text": [
            "Scaled Dataset:\n",
            "    CustomerID  TotalSpending  AverageSpending  TotalQuantity  \\\n",
            "0        C0001      -0.061701        -0.070263      -0.122033   \n",
            "1        C0002      -0.877744        -0.934933      -0.448000   \n",
            "2        C0003      -0.405857        -0.026271       0.203934   \n",
            "3        C0004       1.032547        -0.076769       1.670787   \n",
            "4        C0005      -0.783929        -0.040028      -0.936951   \n",
            "..         ...            ...              ...            ...   \n",
            "194      C0196       0.829053         2.351666      -0.122033   \n",
            "195      C0197      -0.841689        -0.188326      -0.610984   \n",
            "196      C0198      -1.386975        -0.933964      -1.588886   \n",
            "197      C0199      -0.813993        -0.812176      -0.610984   \n",
            "198      C0200       0.706367         1.112926       0.529902   \n",
            "\n",
            "     AverageQuantity  UniqueProductsPurchased  NumberOfTransactions  \\\n",
            "0          -0.233464                 0.050047             -0.011458   \n",
            "1          -0.054969                -0.424204             -0.467494   \n",
            "2           1.729980                -0.424204             -0.467494   \n",
            "3           0.614387                 1.472798              1.356650   \n",
            "4          -0.352460                -0.898455             -0.923530   \n",
            "..               ...                      ...                   ...   \n",
            "194         0.837506                -0.898455             -0.467494   \n",
            "195         0.837506                -0.898455             -0.923530   \n",
            "196        -1.839918                -1.372705             -1.379566   \n",
            "197        -0.501206                -0.424204             -0.467494   \n",
            "198         1.194496                 0.050047             -0.011458   \n",
            "\n",
            "     Region_Europe  Region_North America  Region_South America  \\\n",
            "0            False                 False                  True   \n",
            "1            False                 False                 False   \n",
            "2            False                 False                  True   \n",
            "3            False                 False                  True   \n",
            "4            False                 False                 False   \n",
            "..             ...                   ...                   ...   \n",
            "194           True                 False                 False   \n",
            "195           True                 False                 False   \n",
            "196           True                 False                 False   \n",
            "197           True                 False                 False   \n",
            "198          False                 False                 False   \n",
            "\n",
            "     FavoriteCategory_Clothing  FavoriteCategory_Electronics  \\\n",
            "0                        False                          True   \n",
            "1                         True                         False   \n",
            "2                        False                         False   \n",
            "3                        False                         False   \n",
            "4                        False                          True   \n",
            "..                         ...                           ...   \n",
            "194                      False                         False   \n",
            "195                      False                          True   \n",
            "196                       True                         False   \n",
            "197                      False                          True   \n",
            "198                       True                         False   \n",
            "\n",
            "     FavoriteCategory_Home Decor  \n",
            "0                          False  \n",
            "1                          False  \n",
            "2                           True  \n",
            "3                          False  \n",
            "4                          False  \n",
            "..                           ...  \n",
            "194                         True  \n",
            "195                        False  \n",
            "196                        False  \n",
            "197                        False  \n",
            "198                        False  \n",
            "\n",
            "[199 rows x 13 columns]\n"
          ]
        }
      ]
    },
    {
      "cell_type": "code",
      "source": [
        "from sklearn.metrics.pairwise import cosine_similarity\n",
        "import pandas as pd\n"
      ],
      "metadata": {
        "id": "q1LXRLtwOi2C"
      },
      "execution_count": null,
      "outputs": []
    },
    {
      "cell_type": "code",
      "source": [
        "# Extract features for similarity computation\n",
        "features = customer_features.drop(columns=['CustomerID'])\n"
      ],
      "metadata": {
        "id": "ujDt4HlrPTL4"
      },
      "execution_count": null,
      "outputs": []
    },
    {
      "cell_type": "code",
      "source": [
        "# Compute cosine similarity matrix\n",
        "similarity_matrix = cosine_similarity(features)\n",
        "\n",
        "# Convert the similarity matrix into a DataFrame for better readability\n",
        "similarity_df = pd.DataFrame(similarity_matrix, index=customer_features['CustomerID'], columns=customer_features['CustomerID'])\n"
      ],
      "metadata": {
        "id": "xF1X7zAuPYix"
      },
      "execution_count": null,
      "outputs": []
    },
    {
      "cell_type": "code",
      "source": [
        "def get_top_similar_customers(customer_id, similarity_df, top_n=3):\n",
        "    # Get similarity scores for the given customer\n",
        "    similar_scores = similarity_df[customer_id].sort_values(ascending=False)\n",
        "\n",
        "    # Exclude the customer itself (highest similarity = 1)\n",
        "    similar_scores = similar_scores.drop(customer_id)\n",
        "\n",
        "    # Get the top N similar customers\n",
        "    top_similar = similar_scores.head(top_n)\n",
        "    return top_similar\n"
      ],
      "metadata": {
        "id": "I_YQAfjGPcCi"
      },
      "execution_count": null,
      "outputs": []
    },
    {
      "cell_type": "code",
      "source": [
        "top_similar = get_top_similar_customers('C0001', similarity_df)\n",
        "print(\"Top 3 similar customers for C0001:\")\n",
        "print(top_similar)\n"
      ],
      "metadata": {
        "colab": {
          "base_uri": "https://localhost:8080/"
        },
        "id": "pjV7E6eVPjwn",
        "outputId": "debfbe44-e51b-4759-b06e-016cd2e443af"
      },
      "execution_count": null,
      "outputs": [
        {
          "output_type": "stream",
          "name": "stdout",
          "text": [
            "Top 3 similar customers for C0001:\n",
            "CustomerID\n",
            "C0048    0.943015\n",
            "C0190    0.838230\n",
            "C0181    0.825221\n",
            "Name: C0001, dtype: float64\n"
          ]
        }
      ]
    },
    {
      "cell_type": "code",
      "source": [
        "import pandas as pd\n",
        "from sklearn.metrics.pairwise import cosine_similarity\n",
        "\n",
        "# Compute cosine similarity\n",
        "features = customer_features.drop(columns=['CustomerID'])\n",
        "similarity_df = pd.DataFrame(\n",
        "    cosine_similarity(features),\n",
        "    index=customer_features['CustomerID'],\n",
        "    columns=customer_features['CustomerID']\n",
        ")\n",
        "\n",
        "# Generate top 3 similar customers for the first 20 customers\n",
        "recommendations = {\n",
        "    customer_id: [\n",
        "        (similar_customer, score)\n",
        "        for similar_customer, score in similarity_df[customer_id].sort_values(ascending=False)[1:4].items()\n",
        "    ]\n",
        "    for customer_id in customer_features['CustomerID'][:20]\n",
        "}\n",
        "\n",
        "# Convert recommendations to a DataFrame and save to CSV\n",
        "recommendations_df = pd.DataFrame([\n",
        "    {'CustomerID': customer_id, 'TopSimilarCustomers': recommendations[customer_id]}\n",
        "    for customer_id in recommendations\n",
        "])\n",
        "recommendations_df.to_csv(\"Lookalike_Recommendations.csv\", index=False)\n",
        "\n",
        "# Display the resulting DataFrame\n",
        "print(recommendations_df)\n"
      ],
      "metadata": {
        "colab": {
          "base_uri": "https://localhost:8080/"
        },
        "id": "g_b_jkvPSRnx",
        "outputId": "da645f51-3e23-44be-dbf9-2f017e073f8c"
      },
      "execution_count": null,
      "outputs": [
        {
          "output_type": "stream",
          "name": "stdout",
          "text": [
            "   CustomerID                                TopSimilarCustomers\n",
            "0       C0001  [(C0048, 0.9430145596375978), (C0190, 0.838230...\n",
            "1       C0002  [(C0077, 0.9133133542758101), (C0029, 0.880803...\n",
            "2       C0003  [(C0151, 0.7370360855695157), (C0027, 0.724940...\n",
            "3       C0004  [(C0175, 0.9216310250055183), (C0113, 0.917089...\n",
            "4       C0005  [(C0186, 0.9823633130729911), (C0130, 0.934945...\n",
            "5       C0006  [(C0168, 0.9735712885666749), (C0171, 0.900887...\n",
            "6       C0007  [(C0140, 0.9752242389376314), (C0115, 0.939306...\n",
            "7       C0008  [(C0090, 0.9306165868681694), (C0194, 0.882565...\n",
            "8       C0009  [(C0198, 0.9538870167320774), (C0083, 0.928757...\n",
            "9       C0010  [(C0111, 0.9094167940467867), (C0062, 0.828612...\n",
            "10      C0011  [(C0153, 0.7380936228464436), (C0187, 0.712365...\n",
            "11      C0012  [(C0104, 0.9474047926849681), (C0113, 0.936041...\n",
            "12      C0013  [(C0099, 0.9833800109326489), (C0108, 0.909613...\n",
            "13      C0014  [(C0060, 0.9814150450435234), (C0128, 0.932274...\n",
            "14      C0015  [(C0131, 0.9759169955320567), (C0177, 0.930599...\n",
            "15      C0016  [(C0183, 0.9048275983678414), (C0067, 0.774607...\n",
            "16      C0017  [(C0075, 0.9573033270600401), (C0175, 0.923672...\n",
            "17      C0018  [(C0148, 0.8180568313876416), (C0114, 0.814874...\n",
            "18      C0019  [(C0172, 0.9232024729678147), (C0119, 0.886775...\n",
            "19      C0020  [(C0140, 0.9254969774980745), (C0007, 0.920269...\n"
          ]
        }
      ]
    }
  ]
}